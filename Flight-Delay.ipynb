{
 "cells": [
  {
   "cell_type": "markdown",
   "id": "446d7e60",
   "metadata": {},
   "source": [
    "Flight Delay Prediction Model\n",
    "Antara Rajgopal"
   ]
  },
  {
   "cell_type": "markdown",
   "id": "f9d96433",
   "metadata": {},
   "source": [
    "Imported all the packages needed for data analysis."
   ]
  },
  {
   "cell_type": "code",
   "execution_count": 1,
   "id": "220050c7",
   "metadata": {},
   "outputs": [],
   "source": [
    "import pandas as pd\n",
    "import numpy as np\n",
    "import seaborn as sb\n",
    "import matplotlib.pyplot as plt"
   ]
  },
  {
   "cell_type": "markdown",
   "id": "4a36d75f",
   "metadata": {},
   "source": [
    "Next, we need to scan in our CSV files, in order to understand the data we are looking at."
   ]
  },
  {
   "cell_type": "code",
   "execution_count": null,
   "id": "4525efd3",
   "metadata": {},
   "outputs": [
    {
     "name": "stdout",
     "output_type": "stream",
     "text": [
      "Total Lines: 41177\n"
     ]
    }
   ],
   "source": [
    "# Reading in the CSV files\n",
    "csv2018 = pd.read_csv('delays_2018.csv')\n",
    "csv2019 = pd.read_csv('delays_2019.csv')\n",
    "\n",
    "tot_csv = pd.concat([csv2018, csv2019])\n",
    "\n",
    "# Reading through the total lines\n",
    "print(\"Total Lines: \" + str(len(tot_csv)))"
   ]
  }
 ],
 "metadata": {
  "kernelspec": {
   "display_name": "Python 3",
   "language": "python",
   "name": "python3"
  },
  "language_info": {
   "codemirror_mode": {
    "name": "ipython",
    "version": 3
   },
   "file_extension": ".py",
   "mimetype": "text/x-python",
   "name": "python",
   "nbconvert_exporter": "python",
   "pygments_lexer": "ipython3",
   "version": "3.11.9"
  }
 },
 "nbformat": 4,
 "nbformat_minor": 5
}
