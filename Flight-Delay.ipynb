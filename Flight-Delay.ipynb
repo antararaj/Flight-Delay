{
 "cells": [
  {
   "cell_type": "markdown",
   "id": "446d7e60",
   "metadata": {},
   "source": [
    "Flight Delay Prediction Model\n",
    "Antara Rajgopal"
   ]
  },
  {
   "cell_type": "markdown",
   "id": "f9d96433",
   "metadata": {},
   "source": [
    "Imported all the packages needed for data analysis."
   ]
  },
  {
   "cell_type": "code",
   "execution_count": null,
   "id": "220050c7",
   "metadata": {},
   "outputs": [],
   "source": [
    "import pandas as pd\n",
    "import numpy as np\n",
    "import seaborn as sb\n",
    "import matplotlib.pyplot as plt"
   ]
  }
 ],
 "metadata": {
  "kernelspec": {
   "display_name": "Python 3",
   "language": "python",
   "name": "python3"
  },
  "language_info": {
   "name": "python",
   "version": "3.11.9"
  }
 },
 "nbformat": 4,
 "nbformat_minor": 5
}
